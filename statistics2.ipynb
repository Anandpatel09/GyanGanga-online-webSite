{
  "nbformat": 4,
  "nbformat_minor": 0,
  "metadata": {
    "colab": {
      "provenance": [],
      "authorship_tag": "ABX9TyNLhrgsHHJsR2dx4sQOjjHC",
      "include_colab_link": true
    },
    "kernelspec": {
      "name": "python3",
      "display_name": "Python 3"
    },
    "language_info": {
      "name": "python"
    }
  },
  "cells": [
    {
      "cell_type": "markdown",
      "metadata": {
        "id": "view-in-github",
        "colab_type": "text"
      },
      "source": [
        "<a href=\"https://colab.research.google.com/github/Anandpatel09/GyanGanga-online-webSite/blob/main/statistics2.ipynb\" target=\"_parent\"><img src=\"https://colab.research.google.com/assets/colab-badge.svg\" alt=\"Open In Colab\"/></a>"
      ]
    },
    {
      "cell_type": "markdown",
      "source": [
        "statistics mode"
      ],
      "metadata": {
        "id": "C96Zj4UUSaac"
      }
    },
    {
      "cell_type": "code",
      "execution_count": 1,
      "metadata": {
        "colab": {
          "base_uri": "https://localhost:8080/"
        },
        "id": "s-2FQ_QePNoM",
        "outputId": "5a93e3fb-62e6-4b02-8dd7-ebdde7dc6b0d"
      },
      "outputs": [
        {
          "output_type": "stream",
          "name": "stdout",
          "text": [
            "mode is 4\n"
          ]
        }
      ],
      "source": [
        "import statistics\n",
        "data=[1,2,2,4,4,4,5,6,]\n",
        "modevalue=statistics.mode(data)\n",
        "print(\"mode is\", modevalue)\n"
      ]
    },
    {
      "cell_type": "markdown",
      "source": [
        "statistics median\n"
      ],
      "metadata": {
        "id": "gywf30LoSu01"
      }
    },
    {
      "cell_type": "code",
      "source": [
        "import statistics\n",
        "data=[1,2,2,4,4,4,5,6]\n",
        "medianvalue=statistics.median(data)\n",
        "print(\"median is\",medianvalue)"
      ],
      "metadata": {
        "colab": {
          "base_uri": "https://localhost:8080/"
        },
        "id": "DfC58fZtRUXh",
        "outputId": "93dd8afa-7337-4016-e760-ed3b4466c944"
      },
      "execution_count": 2,
      "outputs": [
        {
          "output_type": "stream",
          "name": "stdout",
          "text": [
            "median is 4.0\n"
          ]
        }
      ]
    },
    {
      "cell_type": "code",
      "source": [
        "import statistics\n",
        "data=[1,2,2,4,4,4,5,6]\n",
        "meanvalue=statistics.mean(data)\n",
        "print(\"mean is\",meanvalue)"
      ],
      "metadata": {
        "colab": {
          "base_uri": "https://localhost:8080/"
        },
        "id": "nhnzUnKqSzgA",
        "outputId": "02987c45-1974-401f-ca84-d3109ff34578"
      },
      "execution_count": 3,
      "outputs": [
        {
          "output_type": "stream",
          "name": "stdout",
          "text": [
            "mean is 3.5\n"
          ]
        }
      ]
    },
    {
      "cell_type": "code",
      "source": [],
      "metadata": {
        "id": "PBCFHWl6VHG_"
      },
      "execution_count": null,
      "outputs": []
    },
    {
      "cell_type": "markdown",
      "source": [
        "Question 2 : find the mean ,median and mode of the following numbers\n",
        "4,8,12,16,20;"
      ],
      "metadata": {
        "id": "Hj9lS5k7VyrB"
      }
    },
    {
      "cell_type": "code",
      "source": [
        "import statistics\n",
        "data= [4,8,12,16,20]\n",
        "mean_value=statistics.mean(data)\n",
        "print(\"mean is\",mean_value)\n"
      ],
      "metadata": {
        "colab": {
          "base_uri": "https://localhost:8080/"
        },
        "id": "8lg8eWGrWLxu",
        "outputId": "460704e6-f738-47a8-be7f-07f25992aede"
      },
      "execution_count": 6,
      "outputs": [
        {
          "output_type": "stream",
          "name": "stdout",
          "text": [
            "mean is 12\n"
          ]
        }
      ]
    },
    {
      "cell_type": "code",
      "source": [
        "import statistics\n",
        "data= [4,8,12,16,20]\n",
        "median_value=statistics.median(data)\n",
        "print(\"median is\",median_value)\n"
      ],
      "metadata": {
        "colab": {
          "base_uri": "https://localhost:8080/"
        },
        "id": "WDmwopVxWyUb",
        "outputId": "43054e0c-12a5-467d-9549-b6ad3d6cbe3d"
      },
      "execution_count": 8,
      "outputs": [
        {
          "output_type": "stream",
          "name": "stdout",
          "text": [
            "median is 12\n"
          ]
        }
      ]
    },
    {
      "cell_type": "code",
      "source": [
        "import statistics\n",
        "data= [4,8,12,16,20]\n",
        "mode_value=statistics.mode(data)\n",
        "print(\"mode is\",mode_value)\n"
      ],
      "metadata": {
        "colab": {
          "base_uri": "https://localhost:8080/"
        },
        "id": "SvbhB6deXcFv",
        "outputId": "577a6c68-e8be-4202-80be-ec7385262937"
      },
      "execution_count": 10,
      "outputs": [
        {
          "output_type": "stream",
          "name": "stdout",
          "text": [
            "mode is 4\n"
          ]
        }
      ]
    },
    {
      "cell_type": "markdown",
      "source": [
        "question 3: calculate the mean ,median and mode for the following numbers 12,15,18,15,20,22"
      ],
      "metadata": {
        "id": "9x-jJETbYqz3"
      }
    },
    {
      "cell_type": "code",
      "source": [
        "import statistics\n",
        "data=[12,15,18,15,20,22]\n",
        "mean_value=statistics.mean(data)\n",
        "print(\"mean is\",mean_value)"
      ],
      "metadata": {
        "colab": {
          "base_uri": "https://localhost:8080/"
        },
        "id": "qNzcDfaaZOP4",
        "outputId": "51fb5e9a-ce1f-4429-8f2d-b4fd153e68a2"
      },
      "execution_count": 11,
      "outputs": [
        {
          "output_type": "stream",
          "name": "stdout",
          "text": [
            "mean is 17\n"
          ]
        }
      ]
    },
    {
      "cell_type": "code",
      "source": [
        "import statistics\n",
        "data=[12,15,18,15,20,22]\n",
        "median_value=statistics.median(data)\n",
        "print(\"median is\",median_value)"
      ],
      "metadata": {
        "colab": {
          "base_uri": "https://localhost:8080/"
        },
        "id": "yGdotWa1ZxUi",
        "outputId": "245b1d65-5ad8-47c1-dfa2-2608e37ae785"
      },
      "execution_count": 12,
      "outputs": [
        {
          "output_type": "stream",
          "name": "stdout",
          "text": [
            "median is 16.5\n"
          ]
        }
      ]
    },
    {
      "cell_type": "code",
      "source": [
        "import statistics\n",
        "data=[12,15,18,15,20,22]\n",
        "mode_value=statistics.mode(data)\n",
        "print(\"mode is\",mode_value)"
      ],
      "metadata": {
        "colab": {
          "base_uri": "https://localhost:8080/"
        },
        "id": "4lY14je_aNWd",
        "outputId": "326525f3-7623-4346-a763-8ef134b75fb2"
      },
      "execution_count": 13,
      "outputs": [
        {
          "output_type": "stream",
          "name": "stdout",
          "text": [
            "mode is 15\n"
          ]
        }
      ]
    }
  ]
}