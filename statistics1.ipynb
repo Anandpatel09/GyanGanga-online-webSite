{
  "nbformat": 4,
  "nbformat_minor": 0,
  "metadata": {
    "colab": {
      "provenance": [],
      "authorship_tag": "ABX9TyMR4yd+k0/A61/Y4YzjDs2y",
      "include_colab_link": true
    },
    "kernelspec": {
      "name": "python3",
      "display_name": "Python 3"
    },
    "language_info": {
      "name": "python"
    }
  },
  "cells": [
    {
      "cell_type": "markdown",
      "metadata": {
        "id": "view-in-github",
        "colab_type": "text"
      },
      "source": [
        "<a href=\"https://colab.research.google.com/github/Anandpatel09/GyanGanga-online-webSite/blob/main/statistics1.ipynb\" target=\"_parent\"><img src=\"https://colab.research.google.com/assets/colab-badge.svg\" alt=\"Open In Colab\"/></a>"
      ]
    },
    {
      "cell_type": "markdown",
      "source": [
        "statistics mode"
      ],
      "metadata": {
        "id": "C96Zj4UUSaac"
      }
    },
    {
      "cell_type": "code",
      "execution_count": 1,
      "metadata": {
        "colab": {
          "base_uri": "https://localhost:8080/"
        },
        "id": "s-2FQ_QePNoM",
        "outputId": "5a93e3fb-62e6-4b02-8dd7-ebdde7dc6b0d"
      },
      "outputs": [
        {
          "output_type": "stream",
          "name": "stdout",
          "text": [
            "mode is 4\n"
          ]
        }
      ],
      "source": [
        "import statistics\n",
        "data=[1,2,2,4,4,4,5,6,]\n",
        "modevalue=statistics.mode(data)\n",
        "print(\"mode is\", modevalue)\n"
      ]
    },
    {
      "cell_type": "markdown",
      "source": [
        "statistics median\n"
      ],
      "metadata": {
        "id": "gywf30LoSu01"
      }
    },
    {
      "cell_type": "code",
      "source": [
        "import statistics\n",
        "data=[1,2,2,4,4,4,5,6]\n",
        "medianvalue=statistics.median(data)\n",
        "print(\"median is\",medianvalue)"
      ],
      "metadata": {
        "colab": {
          "base_uri": "https://localhost:8080/"
        },
        "id": "DfC58fZtRUXh",
        "outputId": "93dd8afa-7337-4016-e760-ed3b4466c944"
      },
      "execution_count": 2,
      "outputs": [
        {
          "output_type": "stream",
          "name": "stdout",
          "text": [
            "median is 4.0\n"
          ]
        }
      ]
    },
    {
      "cell_type": "code",
      "source": [
        "import statistics\n",
        "data=[1,2,2,4,4,4,5,6]\n",
        "meanvalue=statistics.mean(data)\n",
        "print(\"mean is\",meanvalue)"
      ],
      "metadata": {
        "colab": {
          "base_uri": "https://localhost:8080/"
        },
        "id": "nhnzUnKqSzgA",
        "outputId": "02987c45-1974-401f-ca84-d3109ff34578"
      },
      "execution_count": 3,
      "outputs": [
        {
          "output_type": "stream",
          "name": "stdout",
          "text": [
            "mean is 3.5\n"
          ]
        }
      ]
    }
  ]
}